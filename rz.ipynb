{
 "cells": [
  {
   "cell_type": "code",
   "execution_count": 1,
   "metadata": {},
   "outputs": [],
   "source": [
    "from xlutils import copy\n",
    "import xlrd\n",
    "import os\n",
    "from win32com.client import constants as c \n",
    "import pandas as pd\n",
    "from xlutils.copy import copy"
   ]
  },
  {
   "attachments": {},
   "cell_type": "markdown",
   "metadata": {},
   "source": [
    "#### 读取目标.txt里面的文件"
   ]
  },
  {
   "cell_type": "code",
   "execution_count": 2,
   "metadata": {},
   "outputs": [
    {
     "name": "stdout",
     "output_type": "stream",
     "text": [
      "157.10     17.79\n",
      "\n",
      "131.35     23.67\n",
      "\n",
      "131.35     76.96\n",
      "\n",
      "160.35     25.43\n",
      "\n",
      "112.75     25.12\n",
      "\n",
      "115.9       52.36\n",
      "\n",
      "118.01     32.36\n",
      "\n",
      "114.30     25.26\n",
      "\n"
     ]
    }
   ],
   "source": [
    "with open(r'C:\\Users\\PC\\Desktop\\Q2Kv2_12b1\\demo.txt','r') as raw:\n",
    "\tfor line in raw:\n",
    "\t\tprint (line)"
   ]
  },
  {
   "attachments": {},
   "cell_type": "markdown",
   "metadata": {},
   "source": [
    "#### 找到Excel表，并且复制Excel表，在上面进行操作。xlrd库功能是可读的。"
   ]
  },
  {
   "cell_type": "code",
   "execution_count": 6,
   "metadata": {},
   "outputs": [],
   "source": [
    "rb = xlrd.open_workbook(r\"C:/Users/PC\\Desktop/Output.xls\", formatting_info=True)\n",
    "wb = copy(rb)\n",
    "sheet = wb.get_sheet(0)"
   ]
  },
  {
   "attachments": {},
   "cell_type": "markdown",
   "metadata": {},
   "source": [
    "##### 向表中添加数据标题，因为.txt里面的都是数据，所以显得好看一点，在Excel里面加上表头"
   ]
  },
  {
   "cell_type": "code",
   "execution_count": 7,
   "metadata": {},
   "outputs": [],
   "source": [
    "sheet.write(0, 0, 'Distance')  # 其中的'0-行, 0-列'指定表中的单元，'X'是向该单元写入的内容\n",
    "sheet.write(0, 1, 'Mean')\n",
    "sheet.write(1, 0, 'x(km)')  # 其中的'0-行, 0-列'指定表中的单元，'X'是向该单元写入的内容\n",
    "sheet.write(1, 1, 'Temp-data')"
   ]
  },
  {
   "attachments": {},
   "cell_type": "markdown",
   "metadata": {},
   "source": [
    "#### 对文本内容进行多次切片（空格）。x，y分别代表.txt文件里面的两列，找到x,y数据之后，通过sheet.write写到单元格就可以。它可以直接覆盖之前已经存在的数据。"
   ]
  },
  {
   "cell_type": "code",
   "execution_count": 8,
   "metadata": {},
   "outputs": [
    {
     "name": "stdout",
     "output_type": "stream",
     "text": [
      "157.10\n",
      "17.79\n",
      "131.35\n",
      "23.67\n",
      "131.35\n",
      "76.96\n",
      "160.35\n",
      "25.43\n",
      "112.75\n",
      "25.12\n",
      "115.9\n",
      "52.36\n",
      "118.01\n",
      "32.36\n",
      "114.30\n",
      "25.26\n"
     ]
    }
   ],
   "source": [
    "n=2\n",
    "with open(r'C:\\Users\\PC\\Desktop\\Q2Kv2_12b1\\demo.txt',) as fd:\n",
    "\tfor text in fd.readlines():\n",
    "\t\tx=text.split()[0]\n",
    "\t\ty=text.split()[1]\n",
    "\t\tprint (x)\n",
    "\t\tprint (y)\n",
    "\t\tsheet.write(n,0,x)#往表格里写入X坐标 \n",
    "\t\tsheet.write(n,1,y)#往表格里写入Y坐标\n",
    "\t\tn = n+1"
   ]
  },
  {
   "attachments": {},
   "cell_type": "markdown",
   "metadata": {},
   "source": [
    "#### 最后，将以上操作保存到指定的Excel文件中"
   ]
  },
  {
   "cell_type": "code",
   "execution_count": 9,
   "metadata": {},
   "outputs": [],
   "source": [
    "wb.save('Output.xls')\n"
   ]
  }
 ],
 "metadata": {
  "kernelspec": {
   "display_name": "VBA",
   "language": "python",
   "name": "python3"
  },
  "language_info": {
   "codemirror_mode": {
    "name": "ipython",
    "version": 3
   },
   "file_extension": ".py",
   "mimetype": "text/x-python",
   "name": "python",
   "nbconvert_exporter": "python",
   "pygments_lexer": "ipython3",
   "version": "3.6.13"
  },
  "orig_nbformat": 4,
  "vscode": {
   "interpreter": {
    "hash": "586b2049d6625eb4f686d4b0945b4516fb27a8f1e730ea60a289f89d1eae7dfe"
   }
  }
 },
 "nbformat": 4,
 "nbformat_minor": 2
}
